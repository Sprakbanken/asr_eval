{
 "cells": [
  {
   "cell_type": "markdown",
   "metadata": {},
   "source": [
    "# Compare results for different genders"
   ]
  },
  {
   "cell_type": "code",
   "execution_count": null,
   "metadata": {},
   "outputs": [],
   "source": [
    "from pathlib import Path\n",
    "from notebook_utils import get_formatted_score_df, make_plot\n",
    "from asr_eval import utils\n",
    "import pandas as pd\n",
    "\n",
    "pd.options.mode.copy_on_write = True"
   ]
  },
  {
   "cell_type": "code",
   "execution_count": null,
   "metadata": {},
   "outputs": [],
   "source": [
    "mean_score_file = Path(\"../data/output/2024/mean_scores_gender.csv\")\n",
    "if not mean_score_file.exists():\n",
    "    df = get_formatted_score_df(filedir=Path(\"../data/output/2024\"))\n",
    "\n",
    "    mean_score_df = utils.calculate_mean_scores(df, \"gender\")\n",
    "    mean_score_df.to_csv(mean_score_file, index=False)\n",
    "else:\n",
    "    mean_score_df = pd.read_csv(mean_score_file)\n",
    "\n",
    "# Fjern chirp\n",
    "mean_score_df = mean_score_df[mean_score_df.modell != \"chirp\"]"
   ]
  },
  {
   "cell_type": "code",
   "execution_count": null,
   "metadata": {},
   "outputs": [],
   "source": [
    "imagedir = Path(\"images\")\n",
    "imagedir.mkdir(exist_ok=True)"
   ]
  },
  {
   "cell_type": "markdown",
   "metadata": {},
   "source": [
    "# Heatmap"
   ]
  },
  {
   "cell_type": "code",
   "execution_count": null,
   "metadata": {},
   "outputs": [],
   "source": [
    "# Nynorsk\n",
    "make_plot(\n",
    "    mean_score_df,\n",
    "    plot_type=\"heatmap\",\n",
    "    feature=\"gender\",\n",
    "    metric=\"WER\",\n",
    "    language=\"nno\",\n",
    "    save_to_dir=imagedir,\n",
    ")"
   ]
  },
  {
   "cell_type": "code",
   "execution_count": null,
   "metadata": {},
   "outputs": [],
   "source": [
    "# Bokmål\n",
    "make_plot(\n",
    "    mean_score_df,\n",
    "    plot_type=\"heatmap\",\n",
    "    feature=\"gender\",\n",
    "    metric=\"WER\",\n",
    "    language=\"nob\",\n",
    "    save_to_dir=imagedir,\n",
    ")"
   ]
  },
  {
   "cell_type": "markdown",
   "metadata": {},
   "source": [
    "# Bar chart"
   ]
  },
  {
   "cell_type": "code",
   "execution_count": null,
   "metadata": {},
   "outputs": [],
   "source": [
    "# Bokmål\n",
    "make_plot(\n",
    "    mean_score_df,\n",
    "    plot_type=\"barchart\",\n",
    "    feature=\"gender\",\n",
    "    metric=\"WER\",\n",
    "    language=\"nob\",\n",
    "    save_to_dir=imagedir,\n",
    ")"
   ]
  },
  {
   "cell_type": "code",
   "execution_count": null,
   "metadata": {},
   "outputs": [],
   "source": [
    "# Nynorsk\n",
    "make_plot(\n",
    "    mean_score_df,\n",
    "    plot_type=\"barchart\",\n",
    "    feature=\"gender\",\n",
    "    metric=\"WER\",\n",
    "    language=\"nno\",\n",
    "    save_to_dir=imagedir,\n",
    ")"
   ]
  }
 ],
 "metadata": {
  "kernelspec": {
   "display_name": ".venv",
   "language": "python",
   "name": "python3"
  },
  "language_info": {
   "codemirror_mode": {
    "name": "ipython",
    "version": 3
   },
   "file_extension": ".py",
   "mimetype": "text/x-python",
   "name": "python",
   "nbconvert_exporter": "python",
   "pygments_lexer": "ipython3",
   "version": "3.11.8"
  }
 },
 "nbformat": 4,
 "nbformat_minor": 2
}
