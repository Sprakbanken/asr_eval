{
 "cells": [
  {
   "cell_type": "markdown",
   "metadata": {},
   "source": [
    "# Compare results for different years"
   ]
  },
  {
   "cell_type": "code",
   "execution_count": null,
   "metadata": {},
   "outputs": [],
   "source": [
    "from pathlib import Path\n",
    "import pandas as pd\n",
    "from notebook_utils import load_files_to_df, expand_abbreviations\n",
    "from asr_eval import utils"
   ]
  },
  {
   "cell_type": "markdown",
   "metadata": {},
   "source": [
    "## Calculate mean scores for each model, language and year"
   ]
  },
  {
   "cell_type": "code",
   "execution_count": null,
   "metadata": {},
   "outputs": [],
   "source": [
    "mean_score_file = Path(\"../data/output/2024/mean_scores_year.csv\")\n",
    "\n",
    "if not mean_score_file.exists():\n",
    "    p_previous = Path(\"../data/output/2023\")\n",
    "    p_current = Path(\"../data/output/2024\")\n",
    "\n",
    "    prev_year_df = load_files_to_df(p_previous)\n",
    "    current_year_df = load_files_to_df(p_current)\n",
    "\n",
    "    data_df = pd.concat([prev_year_df, current_year_df])\n",
    "\n",
    "    data_df = expand_abbreviations(data_df)\n",
    "\n",
    "    # Filter columns\n",
    "    columns_to_keep = [\n",
    "        \"cer\",\n",
    "        \"wer\",\n",
    "        \"sbert_semdist\",\n",
    "        \"semdist\",\n",
    "        \"aligned_semdist\",\n",
    "        \"date\",\n",
    "        \"model_name\",\n",
    "        \"language_code\",\n",
    "        \"prediction_langcode\",\n",
    "        \"year\",\n",
    "        \"dialect\",\n",
    "        \"gender\",\n",
    "        \"standardized_text\",\n",
    "        \"standardized_text_nn\",\n",
    "        \"standardized_prediction\",\n",
    "    ]\n",
    "\n",
    "    data_df = data_df[columns_to_keep]\n",
    "    mean_score_df = utils.calculate_mean_scores(data_df, \"year\")\n",
    "    mean_score_df.drop_duplicates(subset=[\"modell\", \"språk\", \"year\"], inplace=True)\n",
    "    mean_score_df.to_csv(mean_score_file, index=False)\n",
    "else:\n",
    "    mean_score_df = pd.read_csv(mean_score_file, dtype={\"year\": str})"
   ]
  }
 ],
 "metadata": {
  "kernelspec": {
   "display_name": ".venv",
   "language": "python",
   "name": "python3"
  },
  "language_info": {
   "codemirror_mode": {
    "name": "ipython",
    "version": 3
   },
   "file_extension": ".py",
   "mimetype": "text/x-python",
   "name": "python",
   "nbconvert_exporter": "python",
   "pygments_lexer": "ipython3",
   "version": "3.11.10"
  }
 },
 "nbformat": 4,
 "nbformat_minor": 2
}
