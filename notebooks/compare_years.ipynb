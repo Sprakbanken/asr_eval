{
 "cells": [
  {
   "cell_type": "markdown",
   "metadata": {},
   "source": [
    "# Compare results for different years"
   ]
  },
  {
   "cell_type": "code",
   "execution_count": null,
   "metadata": {},
   "outputs": [],
   "source": [
    "from pathlib import Path\n",
    "import pandas as pd\n",
    "from notebook_utils import get_formatted_score_df\n",
    "from asr_eval import utils\n",
    "\n",
    "mean_score_file = Path(\"../data/output/2024/mean_scores_year.csv\")\n",
    "\n",
    "if not mean_score_file.exists():\n",
    "    p_previous = Path(\"../data/output/2023\")\n",
    "    p_current = Path(\"../data/output/2024\")\n",
    "\n",
    "    df = pd.concat(\n",
    "        [get_formatted_score_df(p_previous), get_formatted_score_df(p_current)],\n",
    "        ignore_index=True,\n",
    "    )\n",
    "\n",
    "    mean_score_df = utils.calculate_mean_scores(df, \"year\")\n",
    "    mean_score_df.drop_duplicates(subset=[\"modell\", \"språk\", \"year\"], inplace=True)\n",
    "    mean_score_df.to_csv(mean_score_file, index=False)\n",
    "else:\n",
    "    mean_score_df = pd.read_csv(mean_score_file, dtype={\"year\": str})"
   ]
  },
  {
   "cell_type": "markdown",
   "metadata": {},
   "source": [
    "# Plot method 1 "
   ]
  },
  {
   "cell_type": "code",
   "execution_count": null,
   "metadata": {},
   "outputs": [],
   "source": [
    "from notebook_utils import make_plot\n",
    "\n",
    "imagedir = Path(\"images\")\n",
    "imagedir.mkdir(exist_ok=True)\n",
    "\n",
    "lang_map = {\"nob\": \"bokmål\", \"nno\": \"nynorsk\"}\n",
    "\n",
    "for metric in [\n",
    "    \"CER\",\n",
    "    \"WER\",\n",
    "    \"semantic distance (sBERT)\",\n",
    "    \"semantic distance\",\n",
    "    \"aligned semantic distance\",\n",
    "]:\n",
    "    for language in [\"nno\", \"nob\"]:\n",
    "        make_plot(\n",
    "            df=mean_score_df,\n",
    "            plot_type=\"barchart\",\n",
    "            feature=\"year\",\n",
    "            metric=metric,\n",
    "            language=language,\n",
    "            save_to_dir=imagedir,\n",
    "        )"
   ]
  },
  {
   "cell_type": "markdown",
   "metadata": {},
   "source": [
    "# Plot method  2 "
   ]
  },
  {
   "cell_type": "code",
   "execution_count": null,
   "metadata": {},
   "outputs": [],
   "source": [
    "import plotly.express as px\n",
    "from plotly.colors import qualitative\n",
    "\n",
    "imagedir = Path(\"images\")\n",
    "imagedir.mkdir(exist_ok=True)\n",
    "\n",
    "lang_map = {\"nob\": \"bokmål\", \"nno\": \"nynorsk\"}\n",
    "\n",
    "for metric in [\n",
    "    \"CER\",\n",
    "    \"WER\",\n",
    "    \"semantic distance (sBERT)\",\n",
    "    \"semantic distance\",\n",
    "    \"aligned semantic distance\",\n",
    "]:\n",
    "    for language in [\"nno\", \"nob\"]:\n",
    "        fig = px.bar(\n",
    "            mean_score_df[mean_score_df.språk == language].sort_values(\n",
    "                by=[\"year\", \"modell\", metric], ascending=True\n",
    "            ),\n",
    "            x=\"modell\",\n",
    "            y=metric,\n",
    "            color=\"year\",\n",
    "            color_discrete_map={\n",
    "                \"2024\": qualitative.Pastel2[0],\n",
    "                \"2025\": qualitative.Dark2[0],\n",
    "            },\n",
    "            barmode=\"group\",\n",
    "            labels={\n",
    "                \"modell\": \"Modell\",\n",
    "                metric: \"Gjennomsnittscore\",\n",
    "                \"språk\": \"Språk\",\n",
    "                \"year\": \"År\",\n",
    "            },\n",
    "            title=f\"Gjennomsnittlig {metric} for {lang_map[language]}\",\n",
    "        )\n",
    "        fig.write_image(\n",
    "            imagedir / f\"barchart_year_{'-'.join(metric.split())}_{language}.png\"\n",
    "        )"
   ]
  }
 ],
 "metadata": {
  "kernelspec": {
   "display_name": ".venv",
   "language": "python",
   "name": "python3"
  },
  "language_info": {
   "codemirror_mode": {
    "name": "ipython",
    "version": 3
   },
   "file_extension": ".py",
   "mimetype": "text/x-python",
   "name": "python",
   "nbconvert_exporter": "python",
   "pygments_lexer": "ipython3",
   "version": "3.11.8"
  }
 },
 "nbformat": 4,
 "nbformat_minor": 2
}
