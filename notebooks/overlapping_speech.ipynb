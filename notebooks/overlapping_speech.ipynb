{
 "cells": [
  {
   "cell_type": "markdown",
   "metadata": {},
   "source": [
    "# Overlapping speech "
   ]
  },
  {
   "cell_type": "code",
   "execution_count": null,
   "metadata": {},
   "outputs": [],
   "source": [
    "from notebook_utils import (\n",
    "    load_files_to_df,\n",
    "    expand_abbreviations,\n",
    "    make_plot,\n",
    ")\n",
    "from asr_eval import utils\n",
    "from pathlib import Path\n",
    "import pandas as pd\n",
    "\n",
    "\n",
    "pd.options.mode.copy_on_write = True"
   ]
  },
  {
   "cell_type": "code",
   "execution_count": null,
   "metadata": {},
   "outputs": [],
   "source": [
    "p_current = Path(\"../data/output/2024\")\n",
    "\n",
    "df = load_files_to_df(p_current)\n",
    "df = expand_abbreviations(df)"
   ]
  },
  {
   "cell_type": "code",
   "execution_count": null,
   "metadata": {},
   "outputs": [],
   "source": [
    "def recreate_audiofilepath(segmented_audio_path: str) -> str:\n",
    "    # new_str = segmented_audio_path.replace(\"segmented/\", \"\")\n",
    "    new_str, _, end_time = segmented_audio_path.rpartition(\"_\")\n",
    "    new_str, _, start_time = new_str.rpartition(\"_\")\n",
    "    return new_str\n",
    "\n",
    "\n",
    "df[\"audiofile\"] = df[\"segmented_audio\"].apply(recreate_audiofilepath)"
   ]
  },
  {
   "cell_type": "code",
   "execution_count": null,
   "metadata": {},
   "outputs": [],
   "source": [
    "dfs = []\n",
    "for (filename, model, lang, lang_pred), df_ in df.groupby(\n",
    "    [\"audiofile\", \"model_name\", \"language_code\", \"prediction_langcode\"]\n",
    "):\n",
    "    if lang != lang_pred:\n",
    "        print(\n",
    "            f\"\"\"filename:\\t{filename}\\nmodel\\t\\t{model}\\nlang\\t\\t{lang}\\npred lang:\\t{lang_pred}\\n\"\"\"\n",
    "        )\n",
    "    df_ = df_.copy()\n",
    "    df_.index = range(len(df_))\n",
    "    df_.sort_values([\"start_ms\"], inplace=True)\n",
    "\n",
    "    df_[\"start_s\"] = round(df_[\"start_ms\"] / 1000, 0)\n",
    "    df_[\"end_s\"] = round(df_[\"end_ms\"] / 1000, 0)\n",
    "\n",
    "    # Two segments are overlapping if one starts before the other ends or ends after the other starts\n",
    "    df_[\"overlapping\"] = (df_[\"start_s\"] < df_[\"end_s\"].shift(1)) | (\n",
    "        df_[\"end_s\"] > df_[\"start_s\"].shift(-1)\n",
    "    )\n",
    "    dfs.append(df_)\n",
    "\n",
    "\n",
    "df = pd.concat(dfs, ignore_index=True)\n",
    "\n",
    "mean_score_file = Path(\"../data/output/2024/mean_scores_overlapping.csv\")\n",
    "if not mean_score_file.exists():\n",
    "    mean_score_df = utils.calculate_mean_scores(df, \"overlapping\")\n",
    "    mean_score_df.to_csv(mean_score_file, index=False)\n",
    "else:\n",
    "    mean_score_df = pd.read_csv(mean_score_file)\n",
    "\n",
    "df.overlapping.value_counts()"
   ]
  },
  {
   "cell_type": "markdown",
   "metadata": {},
   "source": [
    "# Ytelse på overlappende vs ikke-overlappende tale \n",
    "Som forventet er ytelsen dårligere på overlappende tale."
   ]
  },
  {
   "cell_type": "code",
   "execution_count": null,
   "metadata": {},
   "outputs": [],
   "source": [
    "imagedir = Path(\"images\")\n",
    "imagedir.mkdir(exist_ok=True)\n",
    "\n",
    "for lang in df.language_code.unique():\n",
    "    make_plot(\n",
    "        mean_score_df,\n",
    "        plot_type=\"barchart\",\n",
    "        feature=\"overlapping\",\n",
    "        metric=\"WER\",\n",
    "        language=lang,\n",
    "        save_to_dir=imagedir,\n",
    "    )"
   ]
  },
  {
   "cell_type": "markdown",
   "metadata": {},
   "source": [
    "# Ytelse per dialekt på overlappende vs ikke-overlappende tale"
   ]
  },
  {
   "cell_type": "code",
   "execution_count": null,
   "metadata": {},
   "outputs": [],
   "source": [
    "ovelapping_df = df[df[\"overlapping\"]]\n",
    "not_overlapping_df = df[~df[\"overlapping\"]]\n",
    "\n",
    "overlapping_dialect_file = Path(\n",
    "    \"../data/output/2024/mean_scores_dialect_overlapping.csv\"\n",
    ")\n",
    "not_overlapping_dialect_file = Path(\n",
    "    \"../data/output/2024/mean_scores_dialect_not_overlapping.csv\"\n",
    ")\n",
    "\n",
    "if not (overlapping_dialect_file.exists() and not_overlapping_dialect_file.exists()):\n",
    "    overlapping_dialect_df = utils.calculate_mean_scores(ovelapping_df, \"dialect\")\n",
    "    not_overlapping_dialect_df = utils.calculate_mean_scores(\n",
    "        not_overlapping_df, \"dialect\"\n",
    "    )\n",
    "    overlapping_dialect_df.to_csv(overlapping_dialect_file, index=False)\n",
    "    not_overlapping_dialect_df.to_csv(not_overlapping_dialect_file, index=False)\n",
    "else:\n",
    "    overlapping_dialect_df = pd.read_csv(overlapping_dialect_file)\n",
    "    not_overlapping_dialect_df = pd.read_csv(not_overlapping_dialect_file)"
   ]
  },
  {
   "cell_type": "code",
   "execution_count": null,
   "metadata": {},
   "outputs": [],
   "source": [
    "def add_average_scores_across_langs(df: pd.DataFrame) -> pd.DataFrame:\n",
    "    \"\"\"For model outputs in multiple languages, calculate scores across languages\"\"\"\n",
    "    # Define the score columns to average\n",
    "    score_columns = [\n",
    "        \"CER\",\n",
    "        \"WER\",\n",
    "        \"aligned semantic distance\",\n",
    "        \"semantic distance\",\n",
    "        \"semantic distance (sBERT)\",\n",
    "    ]\n",
    "\n",
    "    new_rows = []\n",
    "    for (modell, dialect), group in df.groupby([\"modell\", \"dialect\"]):\n",
    "        if group[\"språk\"].nunique() > 1:  # Check if there are different 'språk' values\n",
    "            avg_scores = group[\n",
    "                score_columns\n",
    "            ].mean()  # Compute the average of score columns\n",
    "            new_row = {\n",
    "                \"modell\": modell,\n",
    "                \"dialect\": dialect,\n",
    "                \"språk\": \"both\",\n",
    "                **avg_scores,\n",
    "            }\n",
    "            new_rows.append(new_row)\n",
    "    return pd.concat((df, pd.DataFrame(new_rows)))\n",
    "\n",
    "\n",
    "overlapping_dialect_df = add_average_scores_across_langs(overlapping_dialect_df)\n",
    "not_overlapping_dialect_df = add_average_scores_across_langs(not_overlapping_dialect_df)"
   ]
  },
  {
   "cell_type": "markdown",
   "metadata": {},
   "source": [
    "## Heatmap for dialects non-overlapping speech only "
   ]
  },
  {
   "cell_type": "code",
   "execution_count": null,
   "metadata": {},
   "outputs": [],
   "source": [
    "make_plot(\n",
    "    not_overlapping_dialect_df,\n",
    "    plot_type=\"heatmap\",\n",
    "    feature=\"dialect\",\n",
    "    metric=\"WER\",\n",
    "    language=\"nob\",\n",
    "    save_to_dir=imagedir,\n",
    "    title_text=\" (uten overlappende tale)\",\n",
    ")"
   ]
  },
  {
   "cell_type": "code",
   "execution_count": null,
   "metadata": {},
   "outputs": [],
   "source": [
    "make_plot(\n",
    "    not_overlapping_dialect_df,\n",
    "    plot_type=\"heatmap\",\n",
    "    feature=\"dialect\",\n",
    "    metric=\"WER\",\n",
    "    language=\"nno\",\n",
    "    save_to_dir=imagedir,\n",
    "    title_text=\" (uten overlappende tale)\",\n",
    ")"
   ]
  },
  {
   "cell_type": "code",
   "execution_count": null,
   "metadata": {},
   "outputs": [],
   "source": [
    "make_plot(\n",
    "    not_overlapping_dialect_df,\n",
    "    plot_type=\"heatmap\",\n",
    "    feature=\"dialect\",\n",
    "    metric=\"WER\",\n",
    "    language=\"both\",\n",
    "    save_to_dir=imagedir,\n",
    "    title_text=\" (uten overlappende tale)\",\n",
    ")"
   ]
  },
  {
   "cell_type": "markdown",
   "metadata": {},
   "source": [
    "## Heatmap for dialects overlapping speech only "
   ]
  },
  {
   "cell_type": "code",
   "execution_count": null,
   "metadata": {},
   "outputs": [],
   "source": [
    "make_plot(\n",
    "    overlapping_dialect_df,\n",
    "    plot_type=\"heatmap\",\n",
    "    feature=\"dialect\",\n",
    "    metric=\"WER\",\n",
    "    language=\"nob\",\n",
    "    save_to_dir=imagedir,\n",
    "    title_text=\" (bare overlappende tale)\",\n",
    ")"
   ]
  },
  {
   "cell_type": "code",
   "execution_count": null,
   "metadata": {},
   "outputs": [],
   "source": [
    "make_plot(\n",
    "    overlapping_dialect_df,\n",
    "    plot_type=\"heatmap\",\n",
    "    feature=\"dialect\",\n",
    "    metric=\"WER\",\n",
    "    language=\"nno\",\n",
    "    save_to_dir=imagedir,\n",
    "    title_text=\" (bare overlappende tale)\",\n",
    ")"
   ]
  },
  {
   "cell_type": "code",
   "execution_count": null,
   "metadata": {},
   "outputs": [],
   "source": [
    "make_plot(\n",
    "    overlapping_dialect_df,\n",
    "    plot_type=\"heatmap\",\n",
    "    feature=\"dialect\",\n",
    "    metric=\"WER\",\n",
    "    language=\"both\",\n",
    "    save_to_dir=imagedir,\n",
    "    title_text=\" (bare overlappende tale)\",\n",
    ")"
   ]
  }
 ],
 "metadata": {
  "kernelspec": {
   "display_name": ".venv",
   "language": "python",
   "name": "python3"
  },
  "language_info": {
   "codemirror_mode": {
    "name": "ipython",
    "version": 3
   },
   "file_extension": ".py",
   "mimetype": "text/x-python",
   "name": "python",
   "nbconvert_exporter": "python",
   "pygments_lexer": "ipython3",
   "version": "3.11.8"
  }
 },
 "nbformat": 4,
 "nbformat_minor": 2
}
