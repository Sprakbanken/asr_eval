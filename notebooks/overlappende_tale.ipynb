{
 "cells": [
  {
   "cell_type": "markdown",
   "metadata": {},
   "source": [
    "# Overlapping speech "
   ]
  },
  {
   "cell_type": "code",
   "execution_count": null,
   "metadata": {},
   "outputs": [],
   "source": [
    "from notebook_utils import (\n",
    "    load_files_to_df,\n",
    "    expand_abbreviations,\n",
    "    make_plot,\n",
    ")\n",
    "from asr_eval import utils\n",
    "from pathlib import Path\n",
    "import pandas as pd\n",
    "\n",
    "\n",
    "pd.options.mode.copy_on_write = True"
   ]
  },
  {
   "cell_type": "code",
   "execution_count": null,
   "metadata": {},
   "outputs": [],
   "source": [
    "p_current = Path(\"../data/output/2024\")\n",
    "\n",
    "df = load_files_to_df(p_current)\n",
    "df = expand_abbreviations(df)"
   ]
  },
  {
   "cell_type": "code",
   "execution_count": null,
   "metadata": {},
   "outputs": [],
   "source": [
    "def recreate_audiofilepath(segmented_audio_path: str) -> str:\n",
    "    # new_str = segmented_audio_path.replace(\"segmented/\", \"\")\n",
    "    new_str, _, end_time = segmented_audio_path.rpartition(\"_\")\n",
    "    new_str, _, start_time = new_str.rpartition(\"_\")\n",
    "    return new_str\n",
    "\n",
    "\n",
    "df[\"audiofile\"] = df[\"segmented_audio\"].apply(recreate_audiofilepath)\n",
    "\n",
    "df.sort_values([\"model_name\", \"audiofile\", \"start_ms\"], inplace=True)\n",
    "df[\"start_s\"] = round(df[\"start_ms\"] / 1000, 0)\n",
    "df[\"end_s\"] = round(df[\"end_ms\"] / 1000, 0)\n",
    "\n",
    "# Two segments are overlapping if the start of the current segment is before the end of the previous segment\n",
    "# or the end of the current segment is after the start of the next segment\n",
    "# and the segments are from the same podcast\n",
    "\n",
    "df[\"overlapping\"] = (df[\"start_s\"] < df[\"end_s\"].shift(1)) & (\n",
    "    df[\"audiofile\"] == df[\"audiofile\"].shift(1)\n",
    ") | (df[\"end_s\"] > df[\"start_s\"].shift(-1)) & (\n",
    "    df[\"audiofile\"] == df[\"audiofile\"].shift(-1)\n",
    ")\n",
    "\n",
    "# df = df[df[\"shared\"] == False]\n",
    "df.overlapping.value_counts() / df.shape[0] * 100"
   ]
  },
  {
   "cell_type": "code",
   "execution_count": null,
   "metadata": {},
   "outputs": [],
   "source": [
    "mean_score_file = Path(\"../data/output/2024/mean_scores_overlapping.csv\")\n",
    "if not mean_score_file.exists():\n",
    "    mean_score_df = utils.calculate_mean_scores(df, \"overlapping\")\n",
    "    mean_score_df.drop_duplicates(\n",
    "        subset=[\"modell\", \"språk\", \"overlapping\"], inplace=True\n",
    "    )\n",
    "    mean_score_df.to_csv(mean_score_file, index=False)\n",
    "else:\n",
    "    mean_score_df = pd.read_csv(mean_score_file)"
   ]
  },
  {
   "cell_type": "code",
   "execution_count": null,
   "metadata": {},
   "outputs": [],
   "source": [
    "imagedir = Path(\"images\")\n",
    "imagedir.mkdir(exist_ok=True)"
   ]
  },
  {
   "cell_type": "markdown",
   "metadata": {},
   "source": [
    "## Heatmap"
   ]
  },
  {
   "cell_type": "code",
   "execution_count": null,
   "metadata": {},
   "outputs": [],
   "source": [
    "make_plot(\n",
    "    mean_score_df,\n",
    "    plot_type=\"heatmap\",\n",
    "    feature=\"overlapping\",\n",
    "    metric=\"WER\",\n",
    "    language=\"nob\",\n",
    "    save_to_dir=imagedir,\n",
    ")"
   ]
  },
  {
   "cell_type": "code",
   "execution_count": null,
   "metadata": {},
   "outputs": [],
   "source": [
    "make_plot(\n",
    "    mean_score_df,\n",
    "    plot_type=\"heatmap\",\n",
    "    feature=\"overlapping\",\n",
    "    metric=\"WER\",\n",
    "    language=\"nno\",\n",
    "    save_to_dir=imagedir,\n",
    ")"
   ]
  },
  {
   "cell_type": "markdown",
   "metadata": {},
   "source": [
    "## Barchart"
   ]
  },
  {
   "cell_type": "code",
   "execution_count": null,
   "metadata": {},
   "outputs": [],
   "source": [
    "make_plot(\n",
    "    mean_score_df,\n",
    "    plot_type=\"barchart\",\n",
    "    feature=\"overlapping\",\n",
    "    metric=\"WER\",\n",
    "    language=\"nob\",\n",
    "    save_to_dir=imagedir,\n",
    ")"
   ]
  },
  {
   "cell_type": "code",
   "execution_count": null,
   "metadata": {},
   "outputs": [],
   "source": [
    "make_plot(\n",
    "    mean_score_df,\n",
    "    plot_type=\"barchart\",\n",
    "    feature=\"overlapping\",\n",
    "    metric=\"WER\",\n",
    "    language=\"nno\",\n",
    "    save_to_dir=imagedir,\n",
    ")"
   ]
  }
 ],
 "metadata": {
  "kernelspec": {
   "display_name": ".venv",
   "language": "python",
   "name": "python3"
  },
  "language_info": {
   "codemirror_mode": {
    "name": "ipython",
    "version": 3
   },
   "file_extension": ".py",
   "mimetype": "text/x-python",
   "name": "python",
   "nbconvert_exporter": "python",
   "pygments_lexer": "ipython3",
   "version": "3.11.11"
  }
 },
 "nbformat": 4,
 "nbformat_minor": 2
}
