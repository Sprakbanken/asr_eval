{
 "cells": [
  {
   "cell_type": "markdown",
   "metadata": {},
   "source": [
    "# Compare results for different dialects"
   ]
  },
  {
   "cell_type": "code",
   "execution_count": null,
   "metadata": {},
   "outputs": [],
   "source": [
    "from pathlib import Path\n",
    "from notebook_utils import load_files_to_df, expand_abbreviations, make_plot\n",
    "from asr_eval import utils\n",
    "import pandas as pd\n",
    "\n",
    "\n",
    "pd.options.mode.copy_on_write = True"
   ]
  },
  {
   "cell_type": "code",
   "execution_count": null,
   "metadata": {},
   "outputs": [],
   "source": [
    "output_dir = Path(\"../data/output/2024\")\n",
    "\n",
    "df = load_files_to_df(output_dir)\n",
    "\n",
    "df = expand_abbreviations(df)"
   ]
  },
  {
   "cell_type": "code",
   "execution_count": null,
   "metadata": {},
   "outputs": [],
   "source": [
    "columns_to_keep = [\n",
    "    \"cer\",\n",
    "    \"wer\",\n",
    "    \"sbert_semdist\",\n",
    "    \"semdist\",\n",
    "    \"aligned_semdist\",\n",
    "    \"date\",\n",
    "    \"model_name\",\n",
    "    \"language_code\",\n",
    "    \"prediction_langcode\",\n",
    "    \"year\",\n",
    "    \"dialect\",\n",
    "    \"gender\",\n",
    "    \"standardized_text\",\n",
    "    \"standardized_text_nn\",\n",
    "    \"standardized_prediction\",\n",
    "]\n",
    "\n",
    "df = df[columns_to_keep]"
   ]
  },
  {
   "cell_type": "code",
   "execution_count": null,
   "metadata": {},
   "outputs": [],
   "source": [
    "mean_score_file = Path(\"../data/output/2024/mean_scores_dialect.csv\")\n",
    "if not mean_score_file.exists():\n",
    "    mean_score_df = utils.calculate_mean_scores(df, \"dialect\")\n",
    "    mean_score_df.drop_duplicates(subset=[\"modell\", \"språk\", \"dialect\"], inplace=True)\n",
    "    mean_score_df.to_csv(mean_score_file, index=False)\n",
    "else:\n",
    "    mean_score_df = pd.read_csv(mean_score_file)"
   ]
  },
  {
   "cell_type": "code",
   "execution_count": null,
   "metadata": {},
   "outputs": [],
   "source": [
    "imagedir = Path(\"images\")\n",
    "imagedir.mkdir(exist_ok=True, parents=True)"
   ]
  },
  {
   "cell_type": "markdown",
   "metadata": {},
   "source": [
    "## Bokmål"
   ]
  },
  {
   "cell_type": "code",
   "execution_count": null,
   "metadata": {},
   "outputs": [],
   "source": [
    "make_plot(\n",
    "    mean_score_df,\n",
    "    plot_type=\"heatmap\",\n",
    "    feature=\"dialect\",\n",
    "    metric=\"WER\",\n",
    "    language=\"nob\",\n",
    "    figsize=(12, 8),\n",
    "    save_to_dir=imagedir,\n",
    ")"
   ]
  },
  {
   "cell_type": "markdown",
   "metadata": {},
   "source": [
    "## Nynorsk"
   ]
  },
  {
   "cell_type": "code",
   "execution_count": null,
   "metadata": {},
   "outputs": [],
   "source": [
    "make_plot(\n",
    "    mean_score_df,\n",
    "    plot_type=\"heatmap\",\n",
    "    feature=\"dialect\",\n",
    "    metric=\"WER\",\n",
    "    language=\"nno\",\n",
    "    figsize=(12, 6),\n",
    "    save_to_dir=imagedir,\n",
    ")"
   ]
  }
 ],
 "metadata": {
  "kernelspec": {
   "display_name": ".venv",
   "language": "python",
   "name": "python3"
  },
  "language_info": {
   "codemirror_mode": {
    "name": "ipython",
    "version": 3
   },
   "file_extension": ".py",
   "mimetype": "text/x-python",
   "name": "python",
   "nbconvert_exporter": "python",
   "pygments_lexer": "ipython3",
   "version": "3.11.11"
  }
 },
 "nbformat": 4,
 "nbformat_minor": 2
}
