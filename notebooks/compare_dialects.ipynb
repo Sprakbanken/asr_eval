{
 "cells": [
  {
   "cell_type": "markdown",
   "metadata": {},
   "source": [
    "# Compare results for different dialects"
   ]
  },
  {
   "cell_type": "code",
   "execution_count": null,
   "metadata": {},
   "outputs": [],
   "source": [
    "from pathlib import Path\n",
    "from notebook_utils import get_formatted_score_df, make_plot\n",
    "from asr_eval import utils\n",
    "import pandas as pd\n",
    "\n",
    "\n",
    "pd.options.mode.copy_on_write = True"
   ]
  },
  {
   "cell_type": "code",
   "execution_count": null,
   "metadata": {},
   "outputs": [],
   "source": [
    "mean_score_file = Path(\"../data/output/2024/mean_scores_dialect.csv\")\n",
    "\n",
    "if not mean_score_file.exists():\n",
    "    df = get_formatted_score_df(Path(\"../data/output/2024\"))\n",
    "    mean_score_df = utils.calculate_mean_scores(df, \"dialect\", add_both_lang_col=True)\n",
    "    mean_score_df.to_csv(mean_score_file, index=False)\n",
    "else:\n",
    "    mean_score_df = pd.read_csv(mean_score_file)\n",
    "\n",
    "# Fjern chirp\n",
    "mean_score_df = mean_score_df[mean_score_df.modell != \"chirp\"]"
   ]
  },
  {
   "cell_type": "code",
   "execution_count": null,
   "metadata": {},
   "outputs": [],
   "source": [
    "imagedir = Path(\"images\")\n",
    "imagedir.mkdir(exist_ok=True, parents=True)"
   ]
  },
  {
   "cell_type": "markdown",
   "metadata": {},
   "source": [
    "## Bokmål"
   ]
  },
  {
   "cell_type": "code",
   "execution_count": null,
   "metadata": {},
   "outputs": [],
   "source": [
    "make_plot(\n",
    "    mean_score_df,\n",
    "    feature=\"dialect\",\n",
    "    metric=\"WER\",\n",
    "    language=\"nob\",\n",
    "    figsize=(12, 6),\n",
    "    save_to_dir=imagedir,\n",
    "    plot_type=\"heatmap\",\n",
    ")"
   ]
  },
  {
   "cell_type": "markdown",
   "metadata": {},
   "source": [
    "## Nynorsk"
   ]
  },
  {
   "cell_type": "code",
   "execution_count": null,
   "metadata": {},
   "outputs": [],
   "source": [
    "make_plot(\n",
    "    mean_score_df,\n",
    "    feature=\"dialect\",\n",
    "    metric=\"WER\",\n",
    "    language=\"nno\",\n",
    "    figsize=(12, 6),\n",
    "    plot_type=\"heatmap\",\n",
    "    save_to_dir=imagedir,\n",
    ")"
   ]
  },
  {
   "cell_type": "code",
   "execution_count": null,
   "metadata": {},
   "outputs": [],
   "source": [
    "make_plot(\n",
    "    mean_score_df,\n",
    "    feature=\"dialect\",\n",
    "    metric=\"WER\",\n",
    "    language=\"both\",\n",
    "    figsize=(12, 6),\n",
    "    save_to_dir=imagedir,\n",
    "    plot_type=\"heatmap\",\n",
    ")"
   ]
  }
 ],
 "metadata": {
  "kernelspec": {
   "display_name": ".venv",
   "language": "python",
   "name": "python3"
  },
  "language_info": {
   "codemirror_mode": {
    "name": "ipython",
    "version": 3
   },
   "file_extension": ".py",
   "mimetype": "text/x-python",
   "name": "python",
   "nbconvert_exporter": "python",
   "pygments_lexer": "ipython3",
   "version": "3.11.8"
  }
 },
 "nbformat": 4,
 "nbformat_minor": 2
}
